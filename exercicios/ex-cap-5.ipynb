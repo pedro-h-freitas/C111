{
 "cells": [
  {
   "cell_type": "code",
   "execution_count": 1,
   "metadata": {},
   "outputs": [],
   "source": [
    "import pandas as pd\n",
    "import numpy as np"
   ]
  },
  {
   "cell_type": "markdown",
   "metadata": {},
   "source": [
    "1 - Crie duas Series com os seguintes valores:  \n",
    "• seriesAno1: {‘Java’: 16.25, ‘C’: 16.04, ‘Python’ : 9.85 }  \n",
    "• seriesAno 2 : {‘C’ : 16.21 , ‘Python’ : 12.12 , ‘Java’ : 11.68 }"
   ]
  },
  {
   "cell_type": "code",
   "execution_count": 2,
   "metadata": {},
   "outputs": [
    {
     "name": "stdout",
     "output_type": "stream",
     "text": [
      "Java      16.25\n",
      "C         16.04\n",
      "Python     9.85\n",
      "dtype: float64\n",
      "\n",
      "Java      11.68\n",
      "C         16.21\n",
      "Python    12.12\n",
      "dtype: float64\n"
     ]
    }
   ],
   "source": [
    "labels = ['Java', 'C', 'Python']\n",
    "\n",
    "serie_ano_1 = pd.Series(index=labels, data=[16.25, 16.04, 9.85])\n",
    "serie_ano_2 = pd.Series(index=labels, data=[11.68, 16.21, 12.12])\n",
    "\n",
    "print(serie_ano_1)\n",
    "print()\n",
    "print(serie_ano_2)"
   ]
  },
  {
   "cell_type": "markdown",
   "metadata": {},
   "source": [
    "2 - Os valores das Series criadas na Questão 1 representam as fatias de mercado (porcentagem) de 3 linguagens de programação populares em dois anos consecutivos.  \n",
    "Para cada ano, apresente a porcentagem total que elas juntas representam no mercado;\n"
   ]
  },
  {
   "cell_type": "code",
   "execution_count": 3,
   "metadata": {},
   "outputs": [
    {
     "name": "stdout",
     "output_type": "stream",
     "text": [
      "Ano 1: 42.14%\n",
      "Ano 2: 40.01%\n"
     ]
    }
   ],
   "source": [
    "print(f'Ano 1: {serie_ano_1.sum()}%')\n",
    "print(f'Ano 2: {serie_ano_2.sum()}%')"
   ]
  },
  {
   "cell_type": "markdown",
   "metadata": {},
   "source": [
    "3 - Apresente o crescimento/declínio no mercado de cada linguagem do primeiro ano para o segundo ano;"
   ]
  },
  {
   "cell_type": "code",
   "execution_count": 4,
   "metadata": {},
   "outputs": [
    {
     "name": "stdout",
     "output_type": "stream",
     "text": [
      "linguagem\tcrescimento/declinio de cada linguagem\n",
      "Java     -4.57\n",
      "C         0.17\n",
      "Python    2.27\n",
      "dtype: float64\n"
     ]
    }
   ],
   "source": [
    "diff = serie_ano_2 - serie_ano_1\n",
    "print('linguagem\\tcrescimento/declinio de cada linguagem')\n",
    "print(diff)"
   ]
  },
  {
   "cell_type": "markdown",
   "metadata": {},
   "source": [
    "4 - Baseado nos resultados da Questão 3, mostre apenas os dados das linguagens que tiveram crescimento;"
   ]
  },
  {
   "cell_type": "code",
   "execution_count": 5,
   "metadata": {},
   "outputs": [
    {
     "name": "stdout",
     "output_type": "stream",
     "text": [
      "Linguagens que tiveram crecimento\n",
      "['C', 'Python']\n"
     ]
    }
   ],
   "source": [
    "print('Linguagens que tiveram crecimento')\n",
    "print(list(diff[diff > 0].index))"
   ]
  },
  {
   "cell_type": "markdown",
   "metadata": {},
   "source": [
    "5 - Se estas porcentagens de crescimento/declínio se mantivessem iguais para os próximos 2 anos, qual seria a linguagem mais popular?  \n",
    "Dica : use o método nlargest ( 1 ) no final para retornar rapidamente a label e maior valor de uma Series."
   ]
  },
  {
   "cell_type": "code",
   "execution_count": 6,
   "metadata": {},
   "outputs": [
    {
     "data": {
      "text/plain": [
       "['Python']"
      ]
     },
     "execution_count": 6,
     "metadata": {},
     "output_type": "execute_result"
    }
   ],
   "source": [
    "prev_serie_ano_4 = serie_ano_2 + diff * 2\n",
    "list(prev_serie_ano_4.nlargest(1).index)"
   ]
  },
  {
   "cell_type": "markdown",
   "metadata": {},
   "source": [
    "6 - Utilizando do DataFrame exemplo do tópico 5.3 deste material, calcule a média dos elementos da coluna X que são menores que 30;"
   ]
  },
  {
   "cell_type": "code",
   "execution_count": 7,
   "metadata": {},
   "outputs": [
    {
     "name": "stdout",
     "output_type": "stream",
     "text": [
      "Média dos elementos da coluna X que são menores que 30: 17.5\n"
     ]
    }
   ],
   "source": [
    "np.random.seed(10)\n",
    "\n",
    "df = pd.DataFrame(\n",
    "    index=['A', 'B', 'C', 'D', 'E'],\n",
    "    columns=['W', 'X', 'Y', 'Z'],\n",
    "    data=np.random.randint(1,50,[5,4])\n",
    ")\n",
    "\n",
    "mean_x_lt_30 = df['X'][df['X'] < 30].mean()\n",
    "\n",
    "print(f'Média dos elementos da coluna X que são menores que 30: {mean_x_lt_30}')"
   ]
  },
  {
   "cell_type": "markdown",
   "metadata": {},
   "source": [
    "7 - Utilizando do mesmo DataFrame, apresente a média dos elementos da linha D usando a função loc() como base e a soma dos elementos da linha E usando a função iloc() como base;"
   ]
  },
  {
   "cell_type": "code",
   "execution_count": 8,
   "metadata": {},
   "outputs": [
    {
     "name": "stdout",
     "output_type": "stream",
     "text": [
      "Média dos elementos da linha D: 34.5\n",
      "Soma dos elementos da linha E: 122\n"
     ]
    }
   ],
   "source": [
    "mean_d_w_loc = df.loc['D'].mean()\n",
    "sum_e_w_iloc = df.iloc[4].sum()\n",
    "\n",
    "print(f'Média dos elementos da linha D: {mean_d_w_loc}')\n",
    "print(f'Soma dos elementos da linha E: {sum_e_w_iloc}')"
   ]
  },
  {
   "cell_type": "markdown",
   "metadata": {},
   "source": [
    "8 - Faça um Slicing na matriz mostrando apenas as linhas A, C e E juntamente com as colunas X e Y. Em seguida, mostre qual seria a soma dos elementos de cada uma destas linhas e cada uma destas colunas."
   ]
  },
  {
   "cell_type": "code",
   "execution_count": 9,
   "metadata": {},
   "outputs": [
    {
     "name": "stdout",
     "output_type": "stream",
     "text": [
      "Soma das linhas: \n",
      "A\t53\n",
      "C\t19\n",
      "E\t60\n",
      "\n",
      "Soma das colunas\n",
      "X\t94\n",
      "Y\t38\n"
     ]
    }
   ],
   "source": [
    "slice = df.loc[['A', 'C', 'E'], ['X', 'Y']]\n",
    "sum_lines = slice.sum(axis=1)\n",
    "sum_columns = slice.sum(axis=0)\n",
    "\n",
    "print('Soma das linhas: ')\n",
    "for k, v in dict(sum_lines).items():\n",
    "    print(f'{k}\\t{v}')\n",
    "print()\n",
    "print('Soma das colunas')\n",
    "for k, v in dict(sum_columns).items():\n",
    "    print(f'{k}\\t{v}')\n"
   ]
  }
 ],
 "metadata": {
  "kernelspec": {
   "display_name": "venv",
   "language": "python",
   "name": "python3"
  },
  "language_info": {
   "codemirror_mode": {
    "name": "ipython",
    "version": 3
   },
   "file_extension": ".py",
   "mimetype": "text/x-python",
   "name": "python",
   "nbconvert_exporter": "python",
   "pygments_lexer": "ipython3",
   "version": "3.12.5"
  }
 },
 "nbformat": 4,
 "nbformat_minor": 2
}
