{
 "cells": [
  {
   "cell_type": "markdown",
   "metadata": {},
   "source": [
    "### 1 Crie uma lista preenchida com os 5 primeiros colocados de um Campeonato de Futebol, na ordem de colocação."
   ]
  },
  {
   "cell_type": "code",
   "execution_count": null,
   "metadata": {},
   "outputs": [],
   "source": [
    "colocados = ['Barcelona', 'Real Madrid', 'Atlético Madrid', 'Athletic Club', 'Villareal']"
   ]
  },
  {
   "cell_type": "markdown",
   "metadata": {},
   "source": [
    "#### Depois mostre:  "
   ]
  },
  {
   "cell_type": "markdown",
   "metadata": {},
   "source": [
    "##### a. Apenas os 3 primeiros colocados;"
   ]
  },
  {
   "cell_type": "code",
   "execution_count": null,
   "metadata": {},
   "outputs": [],
   "source": [
    "colocados[:3]"
   ]
  },
  {
   "cell_type": "markdown",
   "metadata": {},
   "source": [
    "##### b. Os últimos 2 colocados;"
   ]
  },
  {
   "cell_type": "code",
   "execution_count": null,
   "metadata": {},
   "outputs": [],
   "source": [
    "colocados[-2:]"
   ]
  },
  {
   "cell_type": "markdown",
   "metadata": {},
   "source": [
    "##### c. Uma lista com os times em ordem alfabética;"
   ]
  },
  {
   "cell_type": "code",
   "execution_count": null,
   "metadata": {},
   "outputs": [],
   "source": [
    "sorted(colocados)"
   ]
  },
  {
   "cell_type": "markdown",
   "metadata": {},
   "source": [
    "##### d. Em que posição da tabela se encontra o Barcelona;"
   ]
  },
  {
   "cell_type": "code",
   "execution_count": null,
   "metadata": {},
   "outputs": [],
   "source": [
    "colocados.index('Barcelona')"
   ]
  },
  {
   "cell_type": "markdown",
   "metadata": {},
   "source": [
    "### 2 Crie dois conjuntos, um para cada loja. Identifique quais modelos de smartphones cada uma delas vendem. Em seguida, mostre quais modelos no total você terá opção de comprar se visita-las e quais modelos se encontram disponíveis em ambas as lojas;"
   ]
  },
  {
   "cell_type": "code",
   "execution_count": null,
   "metadata": {},
   "outputs": [],
   "source": [
    "loja1 = set(['iPhone 1', 'iPhone 2', 'iPhone 3', 'Samsumg 3', 'Samsumg 4'])\n",
    "loja2 = set(['iPhone 3', 'iPhone 4', 'Samsumg 3', 'Samsumg 4', 'Samsumg 5'])\n",
    "\n",
    "print(f'Todas opções: {loja1 | loja2}')\n",
    "print(f'Opções em ambas: {loja1 & loja2}')"
   ]
  },
  {
   "cell_type": "markdown",
   "metadata": {},
   "source": [
    "### 3 Faça um programa que leia o nome e a média de um aluno e guarde-os em um dicionário. Em seguida, a partir da média (para ser aprovado deve ter média >=50), gere a situação final do aluno (‘AP’ ou ‘RP’), que também deve ser guardada neste dicionário. No final, mostre todo o conteúdo deste dicionário;"
   ]
  },
  {
   "cell_type": "code",
   "execution_count": null,
   "metadata": {},
   "outputs": [],
   "source": [
    "aluno = {}\n",
    "aluno['nome'] = input(\"Insira seu nome: \")\n",
    "aluno['media'] = float(input(\"Insira sua média: \"))\n",
    "aluno['situacao'] = 'AP' if aluno['media'] >= 50 else 'RP'\n",
    "\n",
    "aluno"
   ]
  },
  {
   "cell_type": "markdown",
   "metadata": {},
   "source": [
    "### 4 Faça um programa que leia o nome e peso de 3 pessoas e no final mostre o nome da pessoa mais pesada e a mais leve;"
   ]
  },
  {
   "cell_type": "code",
   "execution_count": null,
   "metadata": {},
   "outputs": [],
   "source": [
    "pessoas = [\n",
    "    (\n",
    "        input('Insira seu nome: '),\n",
    "        float(input('Insira seu peso: '))\n",
    "    )\n",
    "    for _ in range(3)\n",
    "]\n",
    "\n",
    "pessoas_sorted = sorted(pessoas, key=lambda x: x[1])\n",
    "\n",
    "print(f'Mais pesado: {pessoas_sorted[-1]}')\n",
    "print(f'Mais leve: {pessoas_sorted[0]}')"
   ]
  },
  {
   "cell_type": "markdown",
   "metadata": {},
   "source": [
    "### 5 Desenvolva um programa que leia o nome, idade e sexo de n pessoas."
   ]
  },
  {
   "cell_type": "code",
   "execution_count": null,
   "metadata": {},
   "outputs": [],
   "source": [
    "pessoas = [\n",
    "    {\n",
    "        'nome': input('Inira seu nome: '),\n",
    "        'idade': int(input('Inira sua idade: ')),\n",
    "        'sexo': input('Inira seu sexo: (m) ou (h) ')\n",
    "    }\n",
    "    for _ in range(int(input('Insira a quantidade de pessoas: ')))\n",
    "]"
   ]
  },
  {
   "cell_type": "markdown",
   "metadata": {},
   "source": [
    "#### No final, mostre:"
   ]
  },
  {
   "cell_type": "markdown",
   "metadata": {},
   "source": [
    "#### a. A média de idade do grupo;"
   ]
  },
  {
   "cell_type": "code",
   "execution_count": null,
   "metadata": {},
   "outputs": [],
   "source": [
    "media = sum([p['idade'] for p in pessoas]) / len(pessoas)\n",
    "\n",
    "print(f'Média de idade do grupo {media}')"
   ]
  },
  {
   "cell_type": "markdown",
   "metadata": {},
   "source": [
    "#### b. Quantas mulheres têm menos de 20 anos.\n",
    "Dica: em Python, os operadores booleanos básicos são and, or e not."
   ]
  },
  {
   "cell_type": "code",
   "execution_count": null,
   "metadata": {},
   "outputs": [],
   "source": [
    "m_menor_20 = sum([1 for p in pessoas if p['sexo'] == 'm' and p['idade'] < 20])\n",
    "\n",
    "print(f'Quantidade de mulhers com menos de 20 anos: {m_menor_20}')"
   ]
  },
  {
   "cell_type": "code",
   "execution_count": null,
   "metadata": {},
   "outputs": [],
   "source": []
  }
 ],
 "metadata": {
  "kernelspec": {
   "display_name": "venv",
   "language": "python",
   "name": "python3"
  },
  "language_info": {
   "codemirror_mode": {
    "name": "ipython",
    "version": 3
   },
   "file_extension": ".py",
   "mimetype": "text/x-python",
   "name": "python",
   "nbconvert_exporter": "python",
   "pygments_lexer": "ipython3",
   "version": "3.12.5"
  }
 },
 "nbformat": 4,
 "nbformat_minor": 2
}
