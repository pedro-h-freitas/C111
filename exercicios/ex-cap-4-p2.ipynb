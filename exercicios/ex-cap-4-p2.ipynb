{
 "cells": [
  {
   "cell_type": "code",
   "execution_count": null,
   "metadata": {},
   "outputs": [],
   "source": [
    "import numpy as np\n",
    "\n",
    "dataset = np.loadtxt('..\\\\datasets\\\\space.csv', delimiter=';', dtype=str, encoding='utf-8')\n",
    "\n",
    "print(dataset[0])\n",
    "print(\"Removendo cabeçalho...\")\n",
    "dataset = dataset[1:]\n",
    "print(dataset[0])"
   ]
  },
  {
   "cell_type": "markdown",
   "metadata": {},
   "source": [
    "1. Apresente a porcentagem de missões que deram certo"
   ]
  },
  {
   "cell_type": "code",
   "execution_count": null,
   "metadata": {},
   "outputs": [],
   "source": [
    "all_status = dataset[:, 7]\n",
    "qnt_success = len(all_status[all_status == 'Success'])\n",
    "pct_success = qnt_success / len(all_status)\n",
    "\n",
    "print(f'Porcentagem de missões que deram certo: {(pct_success*100):.2f}')"
   ]
  },
  {
   "cell_type": "markdown",
   "metadata": {},
   "source": [
    "2. Qual a media de gastos de uma missão especial se baseando em missões que possuam valores disponíveis (> 0)?"
   ]
  },
  {
   "cell_type": "code",
   "execution_count": null,
   "metadata": {},
   "outputs": [],
   "source": [
    "costs = dataset[:, 6].astype(float)\n",
    "avaible_costs = costs[costs > 0]\n",
    "avg_costs = np.mean(avaible_costs)\n",
    "\n",
    "print(f'Media de gastos de uma missão especial: {avg_costs:.2f}')"
   ]
  },
  {
   "cell_type": "markdown",
   "metadata": {},
   "source": [
    "3. Encontre quantas missões espaciais neste Dataset foram realizadas pelos Estados Unidos (EUA)"
   ]
  },
  {
   "cell_type": "code",
   "execution_count": null,
   "metadata": {},
   "outputs": [],
   "source": [
    "locations = dataset[:, 2]\n",
    "usa_missions = dataset[np.char.find(locations, 'USA') != -1]\n",
    "\n",
    "print(f'Missões espaciais realizadas pelos Estados Unidos (USA):\\n{usa_missions}')"
   ]
  },
  {
   "cell_type": "markdown",
   "metadata": {},
   "source": [
    "4. Encontre qual foi a missão mais cara realizada pela empresas “SpaceX”"
   ]
  },
  {
   "cell_type": "code",
   "execution_count": null,
   "metadata": {},
   "outputs": [],
   "source": [
    "companies = dataset[:, 1]\n",
    "spacex_missions = dataset[np.char.find(companies, 'SpaceX') != -1]\n",
    "spacex_costs = spacex_missions[:, 6]\n",
    "great_cost_mission = spacex_missions[np.argmax(spacex_costs)]\n",
    "\n",
    "print(f'Missão mais cara realizada pela empresa “SpaceX”:\\n{great_cost_mission}')"
   ]
  },
  {
   "cell_type": "markdown",
   "metadata": {},
   "source": [
    "5. Mostre o nome das empresas que já realizaram missões espaciais, juntamente com suas respectivas quantidades de missões (use o for no final para mostrar as informações)"
   ]
  },
  {
   "cell_type": "code",
   "execution_count": null,
   "metadata": {},
   "outputs": [],
   "source": [
    "unq_companies, counts_companies = np.unique(companies, return_counts=True)\n",
    "\n",
    "print('Empresas que já realizaram missões espaciais e suas respectivas quantidades de missões:')\n",
    "\n",
    "for i in range(len(unq_companies)):\n",
    "    print(f'\\t{unq_companies[i]} - {counts_companies[i]} Missões')"
   ]
  }
 ],
 "metadata": {
  "kernelspec": {
   "display_name": "venv",
   "language": "python",
   "name": "python3"
  },
  "language_info": {
   "codemirror_mode": {
    "name": "ipython",
    "version": 3
   },
   "file_extension": ".py",
   "mimetype": "text/x-python",
   "name": "python",
   "nbconvert_exporter": "python",
   "pygments_lexer": "ipython3",
   "version": "3.12.5"
  }
 },
 "nbformat": 4,
 "nbformat_minor": 2
}
