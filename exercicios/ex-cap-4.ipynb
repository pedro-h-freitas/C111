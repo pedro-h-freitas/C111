{
 "cells": [
  {
   "cell_type": "code",
   "execution_count": null,
   "metadata": {},
   "outputs": [],
   "source": [
    "import numpy as np\n",
    "from random import randint"
   ]
  },
  {
   "cell_type": "markdown",
   "metadata": {},
   "source": [
    "# Exercicio 1"
   ]
  },
  {
   "cell_type": "markdown",
   "metadata": {},
   "source": [
    "Crie dois NumPy Arrays unidimensionais de tamanho 8: \n",
    "- um formado apenas por 1’s \n",
    "- e outro formado por números aleatórios entre 0 e 9. "
   ]
  },
  {
   "cell_type": "code",
   "execution_count": null,
   "metadata": {},
   "outputs": [],
   "source": [
    "a1 = np.ones(shape=8)\n",
    "a2 = np.random.randint(0, 10, 8)\n",
    "\n",
    "print(a1)\n",
    "print(a2)"
   ]
  },
  {
   "cell_type": "markdown",
   "metadata": {},
   "source": [
    "Some estes dois NumPy Arrays e guarde o resultado dentro de um terceiro NumPy Array."
   ]
  },
  {
   "cell_type": "code",
   "execution_count": null,
   "metadata": {},
   "outputs": [],
   "source": [
    "a3 = a1 + a2\n",
    "a3"
   ]
  },
  {
   "cell_type": "markdown",
   "metadata": {},
   "source": [
    "Por fim, faça o seguinte:  \n",
    "- Se a soma de todos os elementos do Array resultante for >= 40 , remodele este NumPy Array para se tornar uma matriz com mais linhas do que colunas.\n",
    "- Senão, remodele para que se torne uma matriz com mais colunas do que linhas."
   ]
  },
  {
   "cell_type": "code",
   "execution_count": null,
   "metadata": {},
   "outputs": [],
   "source": [
    "print(a3.sum())\n",
    "\n",
    "if a3.sum() >= 40:\n",
    "    mtz = a3.reshape(4, 2)\n",
    "    print(mtz)\n",
    "else:\n",
    "    mtz = a3.reshape(2, 4)\n",
    "    print(mtz)"
   ]
  },
  {
   "cell_type": "markdown",
   "metadata": {},
   "source": [
    "# Exercicio 2"
   ]
  },
  {
   "cell_type": "markdown",
   "metadata": {},
   "source": [
    "Crie dois NumPy Arrays unidimensionais:\n",
    "- um de números pares de 0 à 51\n",
    "- e outro também de números pares de 100 até 50."
   ]
  },
  {
   "cell_type": "code",
   "execution_count": null,
   "metadata": {},
   "outputs": [],
   "source": [
    "a1 = np.arange(0, 51, 2)\n",
    "a2 = np.arange(100, 49, -2)\n",
    "\n",
    "print(a1)\n",
    "print(a2)"
   ]
  },
  {
   "cell_type": "markdown",
   "metadata": {},
   "source": [
    "Em seguida, os concatene e mostre os resultados ordenados"
   ]
  },
  {
   "cell_type": "code",
   "execution_count": null,
   "metadata": {},
   "outputs": [],
   "source": [
    "a3 = np.concatenate((a1, a2))\n",
    "a3.sort()\n",
    "a3"
   ]
  },
  {
   "cell_type": "markdown",
   "metadata": {},
   "source": [
    "# Exercicio 3"
   ]
  },
  {
   "cell_type": "markdown",
   "metadata": {},
   "source": [
    "Mini Campo Minado\n",
    "- Crie um NumPy Array 2 x 2 formado apenas por 0’s"
   ]
  },
  {
   "cell_type": "code",
   "execution_count": null,
   "metadata": {},
   "outputs": [],
   "source": [
    "campo_minado = np.zeros([2, 2])\n",
    "campo_minado"
   ]
  },
  {
   "cell_type": "markdown",
   "metadata": {},
   "source": [
    "- Em seguida, adicione um número 1 em uma posição aleatória desta matriz;"
   ]
  },
  {
   "cell_type": "code",
   "execution_count": null,
   "metadata": {},
   "outputs": [],
   "source": [
    "l, c = np.random.randint(0, 2, 2)\n",
    "\n",
    "campo_minado[l][c] = 1\n",
    "campo_minado"
   ]
  },
  {
   "cell_type": "markdown",
   "metadata": {},
   "source": [
    "- Faça uma entrada de dados para solicitar o usuário que faça uma jogada (selecione uma posição da matriz)\n",
    "1. Se ele selecionar todas as posições em que o número 1 não se encontra, mostre a mensagem “Congratulations ! You beat the game! :)”\n",
    "2. Senão, se dentro das 3 primeiras jogadas ele achar o número 1 , mostre a mensagem “Game Over! : ( Try Again!”"
   ]
  },
  {
   "cell_type": "code",
   "execution_count": null,
   "metadata": {},
   "outputs": [],
   "source": [
    "win = True\n",
    "for _ in range(3):\n",
    "    while True:\n",
    "        l = int(input('Escolha uma linha: (0 ou 1)'))\n",
    "        c = int(input('Escolha uma coluna: (0 ou 1)'))\n",
    "        if campo_minado[l][c] == -1:\n",
    "            print('Posição já foi escolhida')\n",
    "        else:\n",
    "            break\n",
    "\n",
    "    if campo_minado[l][c] == 1:\n",
    "        print(\"Game Over! : ( Try Again!\")\n",
    "        win = False\n",
    "        break\n",
    "\n",
    "    campo_minado[l][c] = -1\n",
    "\n",
    "if win:\n",
    "    print(\"Congratulations ! You beat the game! :)\")"
   ]
  },
  {
   "cell_type": "markdown",
   "metadata": {},
   "source": [
    "# Exercicio 4"
   ]
  },
  {
   "cell_type": "markdown",
   "metadata": {},
   "source": [
    "Crie uma matriz de tamanho qualquer."
   ]
  },
  {
   "cell_type": "code",
   "execution_count": null,
   "metadata": {},
   "outputs": [],
   "source": [
    "mtz = np.array([[1,2,3],[4,5,6],[7,8,9]])\n",
    "mtz"
   ]
  },
  {
   "cell_type": "markdown",
   "metadata": {},
   "source": [
    "Extraia seu número de linhas e colunas, multiplique-os, e diga se esta matriz poderia se tornar um vetor unidimensional com número par ou ímpar de elementos."
   ]
  },
  {
   "cell_type": "code",
   "execution_count": null,
   "metadata": {},
   "outputs": [],
   "source": [
    "x, y = mtz.shape\n",
    "if (x*y)%2 == 0:\n",
    "    print('Vetor unidimensional com numero par de elementos')\n",
    "else:\n",
    "    print('Vetor unidimensional com numero ímpar de elementos')"
   ]
  },
  {
   "cell_type": "markdown",
   "metadata": {},
   "source": [
    "# Exercicio 5"
   ]
  },
  {
   "cell_type": "markdown",
   "metadata": {},
   "source": [
    "Crie uma matriz de tamanho 4x4 formada por números aleatórios inteiros entre 1 e 50 (use seed = 10 antes)"
   ]
  },
  {
   "cell_type": "code",
   "execution_count": null,
   "metadata": {},
   "outputs": [],
   "source": [
    "np.random.seed(10)\n",
    "\n",
    "mtz = np.random.randint(1, 51, [4, 4])\n",
    "mtz"
   ]
  },
  {
   "cell_type": "markdown",
   "metadata": {},
   "source": [
    "- Mostre o resultado da média de cada linha e cada coluna da matriz gerada"
   ]
  },
  {
   "cell_type": "code",
   "execution_count": null,
   "metadata": {},
   "outputs": [],
   "source": [
    "print(f'Média das colunas {mtz.mean(axis=0)}')\n",
    "print(f'Média das linhas {mtz.mean(axis=1)}')"
   ]
  },
  {
   "cell_type": "markdown",
   "metadata": {},
   "source": [
    "- Apresente o maior valor das médias das linhas e também das colunas"
   ]
  },
  {
   "cell_type": "code",
   "execution_count": null,
   "metadata": {},
   "outputs": [],
   "source": [
    "print(f'Maior valor das médias das colunas {max(mtz.mean(axis=0))}')\n",
    "print(f'Maior valor das médias das linhas {max(mtz.mean(axis=1))}')"
   ]
  },
  {
   "cell_type": "markdown",
   "metadata": {},
   "source": [
    "- Mostre a quantidade de aparições de cada um dos números gerados na matriz.\n",
    "  Em seguida, mostre apenas os números que aparecem 2 vezes"
   ]
  },
  {
   "cell_type": "code",
   "execution_count": null,
   "metadata": {},
   "outputs": [],
   "source": [
    "uniques, qnts = np.unique(mtz, return_counts=True)\n",
    "\n",
    "print('Relação dos numeros(n) e a quantidade(q) de cada um deles:')\n",
    "print('-------------------------')\n",
    "print('n\\t-\\tq\\t|')\n",
    "print('-------------------------')\n",
    "for i in range(len(uniques)):\n",
    "    print(f'{uniques[i]}\\t-\\t{qnts[i]}\\t|')\n",
    "print('-------------------------')\n",
    "print(f'Numeros que apareceram 2 vezes: {uniques[qnts==2]}')"
   ]
  }
 ],
 "metadata": {
  "kernelspec": {
   "display_name": "venv",
   "language": "python",
   "name": "python3"
  },
  "language_info": {
   "codemirror_mode": {
    "name": "ipython",
    "version": 3
   },
   "file_extension": ".py",
   "mimetype": "text/x-python",
   "name": "python",
   "nbconvert_exporter": "python",
   "pygments_lexer": "ipython3",
   "version": "3.12.5"
  }
 },
 "nbformat": 4,
 "nbformat_minor": 2
}
