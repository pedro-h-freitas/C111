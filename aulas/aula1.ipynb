{
 "cells": [
  {
   "cell_type": "markdown",
   "metadata": {},
   "source": [
    "# Coleções\n",
    "São variaveis que permitem guardar mais de um valor\n",
    "\n",
    "As mais comuns do python são:\n",
    "- Tuplas ()\n",
    "- Listas []\n",
    "- Conjuntos {}\n",
    "- Dicionários {:}"
   ]
  },
  {
   "cell_type": "markdown",
   "metadata": {},
   "source": [
    "### Tuplas"
   ]
  },
  {
   "cell_type": "code",
   "execution_count": 20,
   "metadata": {},
   "outputs": [
    {
     "name": "stdout",
     "output_type": "stream",
     "text": [
      "('Goku', 'Vegeta', 'Trunks', 'Gohan')\n"
     ]
    }
   ],
   "source": [
    "nomes = ('Goku', 'Vegeta', 'Trunks', 'Gohan')\n",
    "print(nomes)"
   ]
  },
  {
   "cell_type": "markdown",
   "metadata": {},
   "source": [
    "#### Slicing"
   ]
  },
  {
   "cell_type": "code",
   "execution_count": 21,
   "metadata": {},
   "outputs": [
    {
     "name": "stdout",
     "output_type": "stream",
     "text": [
      "Goku\n",
      "('Goku', 'Vegeta')\n",
      "('Trunks', 'Gohan')\n",
      "('Vegeta', 'Trunks')\n",
      "Gohan\n",
      "('Gohan', 'Trunks', 'Vegeta', 'Goku')\n"
     ]
    }
   ],
   "source": [
    "print(nomes[0])\n",
    "print(nomes[:2])\n",
    "print(nomes[2:])\n",
    "print(nomes[1:3])\n",
    "print(nomes[-1])\n",
    "print(nomes[::-1])\n",
    "\n",
    "# OBS: para todo range inicio é inclusivo e fim é exclusivo"
   ]
  },
  {
   "cell_type": "markdown",
   "metadata": {},
   "source": [
    "#### Imutável"
   ]
  },
  {
   "cell_type": "code",
   "execution_count": 15,
   "metadata": {},
   "outputs": [
    {
     "ename": "TypeError",
     "evalue": "'tuple' object does not support item assignment",
     "output_type": "error",
     "traceback": [
      "\u001b[1;31m---------------------------------------------------------------------------\u001b[0m",
      "\u001b[1;31mTypeError\u001b[0m                                 Traceback (most recent call last)",
      "Cell \u001b[1;32mIn[15], line 1\u001b[0m\n\u001b[1;32m----> 1\u001b[0m \u001b[43mnomes\u001b[49m\u001b[43m[\u001b[49m\u001b[38;5;241;43m0\u001b[39;49m\u001b[43m]\u001b[49m \u001b[38;5;241m=\u001b[39m \u001b[38;5;124m'\u001b[39m\u001b[38;5;124mBulma\u001b[39m\u001b[38;5;124m'\u001b[39m\n\u001b[0;32m      2\u001b[0m \u001b[38;5;28mprint\u001b[39m(nomes)\n",
      "\u001b[1;31mTypeError\u001b[0m: 'tuple' object does not support item assignment"
     ]
    }
   ],
   "source": [
    "nomes[0] = 'Bulma'\n",
    "print(nomes)"
   ]
  },
  {
   "cell_type": "markdown",
   "metadata": {},
   "source": [
    "#### Utilidade\n",
    "\n",
    "Para exibição de dados que não há interece em se alterar durante o tempo de execução"
   ]
  },
  {
   "cell_type": "markdown",
   "metadata": {},
   "source": [
    "### Listas"
   ]
  },
  {
   "cell_type": "code",
   "execution_count": 26,
   "metadata": {},
   "outputs": [
    {
     "name": "stdout",
     "output_type": "stream",
     "text": [
      "['Goku', 'Vegeta', 'Trunks', 'Gohan']\n"
     ]
    }
   ],
   "source": [
    "nomes = ['Goku', 'Vegeta', 'Trunks', 'Gohan']\n",
    "print(nomes)"
   ]
  },
  {
   "cell_type": "markdown",
   "metadata": {},
   "source": [
    "#### Mutável"
   ]
  },
  {
   "cell_type": "code",
   "execution_count": 27,
   "metadata": {},
   "outputs": [
    {
     "name": "stdout",
     "output_type": "stream",
     "text": [
      "['Goku', 'Vegeta', 'Trunks', 'Gohan', 'Bulma']\n",
      "['Goku', 'Kuririn', 'Vegeta', 'Trunks', 'Gohan', 'Bulma']\n",
      "['Goten', 'Kuririn', 'Vegeta', 'Trunks', 'Gohan', 'Bulma']\n",
      "['Goten', 'Vegeta', 'Trunks', 'Gohan', 'Bulma']\n",
      "['Goten', 'Trunks', 'Gohan', 'Bulma']\n",
      "['Goten', 'Trunks', 'Gohan']\n",
      "['Goten', 'Gohan']\n"
     ]
    }
   ],
   "source": [
    "# Insert\n",
    "nomes.append('Bulma')\n",
    "print(nomes)\n",
    "nomes.insert(1, 'Kuririn')\n",
    "print(nomes)\n",
    "\n",
    "# Update\n",
    "nomes[0] = 'Goten'\n",
    "print(nomes)\n",
    "\n",
    "# Delete\n",
    "del nomes[1]\n",
    "print(nomes)\n",
    "\n",
    "nomes.pop(1)\n",
    "print(nomes)\n",
    "\n",
    "nomes.pop()\n",
    "print(nomes)\n",
    "\n",
    "nomes.remove('Trunks')\n",
    "print(nomes)"
   ]
  },
  {
   "cell_type": "code",
   "execution_count": 28,
   "metadata": {},
   "outputs": [
    {
     "name": "stdout",
     "output_type": "stream",
     "text": [
      "Picollo isnt here!!!\n"
     ]
    }
   ],
   "source": [
    "if 'Piccolo' in nomes:\n",
    "    print('Picollo is here!!!')\n",
    "else:\n",
    "    print('Picollo isnt here!!!')\n"
   ]
  },
  {
   "cell_type": "markdown",
   "metadata": {},
   "source": [
    "### Conjuntos"
   ]
  },
  {
   "cell_type": "code",
   "execution_count": 32,
   "metadata": {},
   "outputs": [
    {
     "name": "stdout",
     "output_type": "stream",
     "text": [
      "{'Goku', 'Trunks', 'Vegeta', 'Gohan'}\n"
     ]
    }
   ],
   "source": [
    "nomes = {'Goku', 'Vegeta', 'Trunks', 'Gohan', 'Trunks', 'Goku'}\n",
    "print(nomes)"
   ]
  },
  {
   "cell_type": "markdown",
   "metadata": {},
   "source": [
    "#### Mutável"
   ]
  },
  {
   "cell_type": "code",
   "execution_count": 33,
   "metadata": {},
   "outputs": [
    {
     "name": "stdout",
     "output_type": "stream",
     "text": [
      "{'Goku', 'Trunks', 'Kami', 'Vegeta', 'Gohan'}\n",
      "{'Goku', 'Trunks', 'Kami', 'Gohan'}\n"
     ]
    }
   ],
   "source": [
    "# Insert\n",
    "nomes.add('Kami')\n",
    "print(nomes)\n",
    "\n",
    "# Delete\n",
    "nomes.remove('Vegeta')\n",
    "print(nomes)\n",
    "\n",
    "# Update ???"
   ]
  },
  {
   "cell_type": "markdown",
   "metadata": {},
   "source": [
    "### Conjuntos"
   ]
  },
  {
   "cell_type": "code",
   "execution_count": 38,
   "metadata": {},
   "outputs": [
    {
     "name": "stdout",
     "output_type": "stream",
     "text": [
      "{'nome': 'Goku', 'idade': 42}\n",
      "Goku\n"
     ]
    }
   ],
   "source": [
    "pessoa = {'nome': 'Goku', 'idade': 42}\n",
    "print(pessoa)\n",
    "print(pessoa['nome'])"
   ]
  },
  {
   "cell_type": "markdown",
   "metadata": {},
   "source": [
    "#### Mutável"
   ]
  },
  {
   "cell_type": "code",
   "execution_count": 39,
   "metadata": {},
   "outputs": [
    {
     "name": "stdout",
     "output_type": "stream",
     "text": [
      "Goku\n",
      "{'nome': 'Goku', 'idade': 42, 'sexo': 'M'}\n",
      "{'nome': 'Vegeta', 'idade': 42, 'sexo': 'M'}\n",
      "{'nome': 'Vegeta', 'idade': 42}\n"
     ]
    }
   ],
   "source": [
    "# Acesso\n",
    "print(pessoa['nome'])\n",
    "\n",
    "# Insert\n",
    "pessoa['sexo'] = 'M'\n",
    "print(pessoa)\n",
    "\n",
    "# Update\n",
    "pessoa['nome'] = 'Vegeta'\n",
    "print(pessoa)\n",
    "\n",
    "# Delete\n",
    "del pessoa['sexo']\n",
    "print(pessoa)"
   ]
  }
 ],
 "metadata": {
  "kernelspec": {
   "display_name": "venv",
   "language": "python",
   "name": "python3"
  },
  "language_info": {
   "codemirror_mode": {
    "name": "ipython",
    "version": 3
   },
   "file_extension": ".py",
   "mimetype": "text/x-python",
   "name": "python",
   "nbconvert_exporter": "python",
   "pygments_lexer": "ipython3",
   "version": "3.12.5"
  }
 },
 "nbformat": 4,
 "nbformat_minor": 2
}
