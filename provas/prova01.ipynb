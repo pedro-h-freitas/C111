{
 "cells": [
  {
   "cell_type": "code",
   "execution_count": 1,
   "metadata": {},
   "outputs": [
    {
     "name": "stdout",
     "output_type": "stream",
     "text": [
      "['Post_ID' 'Platform' 'Hashtag' 'Content_Type' 'Region' 'Views' 'Likes'\n",
      " 'Shares' 'Comments' 'Engagement_Level']\n",
      "\n",
      "Removendo cabeçalho...\n",
      "\n",
      "['Post_1' 'TikTok' 'Challenge' 'Video' 'UK' '4163464' '339431' '53135'\n",
      " '19346' 'High']\n"
     ]
    }
   ],
   "source": [
    "import numpy as np\n",
    "\n",
    "dataset = np.loadtxt(\"dataset/social_media.csv\", delimiter=\";\", dtype=str, encoding=\"utf-8\")\n",
    "print(dataset[0])\n",
    "print(\"\\nRemovendo cabeçalho...\\n\")\n",
    "dataset = dataset[1:]\n",
    "print(dataset[0])"
   ]
  },
  {
   "cell_type": "markdown",
   "metadata": {},
   "source": [
    "##### 1. Mostre quantos posts deste dataset são do Brazil;"
   ]
  },
  {
   "cell_type": "code",
   "execution_count": 2,
   "metadata": {},
   "outputs": [
    {
     "name": "stdout",
     "output_type": "stream",
     "text": [
      "Quantidade de posts do Brasil: 641\n"
     ]
    }
   ],
   "source": [
    "regions = dataset[:, 4]\n",
    "regions_unique, regions_counts = np.unique_counts(regions)\n",
    "\n",
    "brazil_count = int(regions_counts[regions_unique == 'Brazil'][0])\n",
    "\n",
    "print(f'Quantidade de posts do Brasil: {brazil_count}')"
   ]
  },
  {
   "cell_type": "markdown",
   "metadata": {},
   "source": [
    "##### 2. Calcule a porcentagem de posts deste dataset que possuem a hashtag \"Education\";"
   ]
  },
  {
   "cell_type": "code",
   "execution_count": 3,
   "metadata": {},
   "outputs": [
    {
     "name": "stdout",
     "output_type": "stream",
     "text": [
      "Porcentagem de posts que possuem a hashtag \"Education\": 10.5%\n"
     ]
    }
   ],
   "source": [
    "hashtags = dataset[:, 2]\n",
    "hashtags_unique, hashtags_counts = np.unique_counts(hashtags)\n",
    "\n",
    "education_counts = hashtags_counts[hashtags_unique == 'Education'][0]\n",
    "hashtags_prct = (education_counts / len(dataset))*100\n",
    "\n",
    "print(f'Porcentagem de posts que possuem a hashtag \"Education\": {hashtags_prct}%')"
   ]
  },
  {
   "cell_type": "markdown",
   "metadata": {},
   "source": [
    "##### 3. Calcule a média de Views e Likes dos posts deste dataset pertencentes ao Instagram. Em seguida, guarde os resultados em um dicionário e mostre seus valores;"
   ]
  },
  {
   "cell_type": "code",
   "execution_count": 4,
   "metadata": {},
   "outputs": [
    {
     "name": "stdout",
     "output_type": "stream",
     "text": [
      "Médias do Instagram: \n",
      "\tLikes: 257118.21782178216\n",
      "\tViews: 2404079.8778877887\n"
     ]
    }
   ],
   "source": [
    "plataforms = dataset[:, 1]\n",
    "\n",
    "instagram_likes = dataset[plataforms == 'Instagram', 6].astype(np.int32)\n",
    "instagram_views = dataset[plataforms == 'Instagram', 5].astype(np.int32)\n",
    "\n",
    "instagram_likes_average = np.average(instagram_likes)\n",
    "instagram_views_average = np.average(instagram_views)\n",
    "\n",
    "instagram_average = {\n",
    "    'likes': instagram_likes_average,\n",
    "    'views': instagram_views_average,\n",
    "}\n",
    "\n",
    "print('Médias do Instagram: ')\n",
    "print(f'\\tLikes: {instagram_average['likes']}')\n",
    "print(f'\\tViews: {instagram_average['views']}')"
   ]
  },
  {
   "cell_type": "markdown",
   "metadata": {},
   "source": [
    "##### 4. Para a plataforma com maior quantidade de posts neste dataset, mostre seu nome e seu número de posts;"
   ]
  },
  {
   "cell_type": "code",
   "execution_count": 5,
   "metadata": {},
   "outputs": [
    {
     "name": "stdout",
     "output_type": "stream",
     "text": [
      "Plataforma com maior número de posts: YouTube\n",
      "Quantidade de posts: 1324\n"
     ]
    }
   ],
   "source": [
    "plataforms = dataset[:, 1]\n",
    "plataforms_unique, plataforms_counts = np.unique_counts(plataforms)\n",
    "\n",
    "plataform_max_posts = plataforms_unique[plataforms_counts.argmax()]\n",
    "max_posts = plataforms_counts.max()\n",
    "\n",
    "print(f'Plataforma com maior número de posts: {plataform_max_posts}')\n",
    "print(f'Quantidade de posts: {max_posts}')"
   ]
  },
  {
   "cell_type": "markdown",
   "metadata": {},
   "source": [
    "##### 5. Mostre a origem (região) de onde saiu o post com maior número de likes segundo este dataset"
   ]
  },
  {
   "cell_type": "code",
   "execution_count": 6,
   "metadata": {},
   "outputs": [
    {
     "name": "stdout",
     "output_type": "stream",
     "text": [
      "Origem do post com maior número de likes: Germany\n"
     ]
    }
   ],
   "source": [
    "likes = dataset[:, 6].astype(np.int32)\n",
    "region_max_likes = dataset[likes.argmax(), 4]\n",
    "\n",
    "\n",
    "print(f'Origem do post com maior número de likes: {region_max_likes}')"
   ]
  }
 ],
 "metadata": {
  "kernelspec": {
   "display_name": "venv",
   "language": "python",
   "name": "python3"
  },
  "language_info": {
   "codemirror_mode": {
    "name": "ipython",
    "version": 3
   },
   "file_extension": ".py",
   "mimetype": "text/x-python",
   "name": "python",
   "nbconvert_exporter": "python",
   "pygments_lexer": "ipython3",
   "version": "3.12.5"
  }
 },
 "nbformat": 4,
 "nbformat_minor": 2
}
